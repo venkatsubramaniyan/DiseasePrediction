{
 "cells": [
  {
   "cell_type": "code",
   "execution_count": 1,
   "metadata": {},
   "outputs": [],
   "source": [
    "import numpy as np\n",
    "import pandas as pd\n",
    "import matplotlib.pyplot as plt                                        \n",
    "import seaborn as sns  \n",
    "from sklearn.model_selection import train_test_split\n",
    "from sklearn.linear_model import LogisticRegression\n",
    "from sklearn.metrics import accuracy_score, precision_score, recall_score, confusion_matrix, make_scorer, fbeta_score\n",
    "from sklearn.preprocessing import MinMaxScaler\n",
    "from sklearn.model_selection import GridSearchCV"
   ]
  },
  {
   "cell_type": "code",
   "execution_count": 2,
   "metadata": {},
   "outputs": [
    {
     "data": {
      "text/html": [
       "<div>\n",
       "<style scoped>\n",
       "    .dataframe tbody tr th:only-of-type {\n",
       "        vertical-align: middle;\n",
       "    }\n",
       "\n",
       "    .dataframe tbody tr th {\n",
       "        vertical-align: top;\n",
       "    }\n",
       "\n",
       "    .dataframe thead th {\n",
       "        text-align: right;\n",
       "    }\n",
       "</style>\n",
       "<table border=\"1\" class=\"dataframe\">\n",
       "  <thead>\n",
       "    <tr style=\"text-align: right;\">\n",
       "      <th></th>\n",
       "      <th>Unnamed: 0</th>\n",
       "      <th>desy_sort_key</th>\n",
       "      <th>gender_id</th>\n",
       "      <th>Diabetes</th>\n",
       "      <th>COPD</th>\n",
       "      <th>CKD</th>\n",
       "      <th>PVD</th>\n",
       "      <th>CAD</th>\n",
       "      <th>HyperTension</th>\n",
       "      <th>DiseaseType</th>\n",
       "      <th>...</th>\n",
       "      <th>Total_Cholesterol</th>\n",
       "      <th>Triglycerides</th>\n",
       "      <th>COPDAssesstmet_Test</th>\n",
       "      <th>nMRC</th>\n",
       "      <th>FEV1/FVC_Ratio</th>\n",
       "      <th>FEV1</th>\n",
       "      <th>serum_creatinine</th>\n",
       "      <th>gfr</th>\n",
       "      <th>blood_urea_nitrogen</th>\n",
       "      <th>Albumin_to_creatinine_ratio</th>\n",
       "    </tr>\n",
       "  </thead>\n",
       "  <tbody>\n",
       "    <tr>\n",
       "      <td>0</td>\n",
       "      <td>0</td>\n",
       "      <td>118683983</td>\n",
       "      <td>F</td>\n",
       "      <td>0</td>\n",
       "      <td>0</td>\n",
       "      <td>0</td>\n",
       "      <td>0</td>\n",
       "      <td>0</td>\n",
       "      <td>1</td>\n",
       "      <td>2</td>\n",
       "      <td>...</td>\n",
       "      <td>226.513751</td>\n",
       "      <td>60.829092</td>\n",
       "      <td>2.350348</td>\n",
       "      <td>0.684115</td>\n",
       "      <td>0.717862</td>\n",
       "      <td>90.379252</td>\n",
       "      <td>0.998853</td>\n",
       "      <td>152.072711</td>\n",
       "      <td>18.470213</td>\n",
       "      <td>13.594130</td>\n",
       "    </tr>\n",
       "    <tr>\n",
       "      <td>1</td>\n",
       "      <td>1</td>\n",
       "      <td>130289775</td>\n",
       "      <td>F</td>\n",
       "      <td>1</td>\n",
       "      <td>0</td>\n",
       "      <td>0</td>\n",
       "      <td>0</td>\n",
       "      <td>0</td>\n",
       "      <td>0</td>\n",
       "      <td>1</td>\n",
       "      <td>...</td>\n",
       "      <td>212.915038</td>\n",
       "      <td>53.870125</td>\n",
       "      <td>6.964980</td>\n",
       "      <td>0.296683</td>\n",
       "      <td>0.877135</td>\n",
       "      <td>88.370560</td>\n",
       "      <td>1.025898</td>\n",
       "      <td>168.231390</td>\n",
       "      <td>18.302752</td>\n",
       "      <td>13.145523</td>\n",
       "    </tr>\n",
       "    <tr>\n",
       "      <td>2</td>\n",
       "      <td>2</td>\n",
       "      <td>108632239</td>\n",
       "      <td>F</td>\n",
       "      <td>0</td>\n",
       "      <td>0</td>\n",
       "      <td>0</td>\n",
       "      <td>0</td>\n",
       "      <td>0</td>\n",
       "      <td>1</td>\n",
       "      <td>2</td>\n",
       "      <td>...</td>\n",
       "      <td>134.289605</td>\n",
       "      <td>57.523097</td>\n",
       "      <td>5.643176</td>\n",
       "      <td>0.337167</td>\n",
       "      <td>0.994377</td>\n",
       "      <td>88.580960</td>\n",
       "      <td>0.986728</td>\n",
       "      <td>166.307136</td>\n",
       "      <td>18.422089</td>\n",
       "      <td>6.466951</td>\n",
       "    </tr>\n",
       "    <tr>\n",
       "      <td>3</td>\n",
       "      <td>3</td>\n",
       "      <td>117485425</td>\n",
       "      <td>M</td>\n",
       "      <td>0</td>\n",
       "      <td>0</td>\n",
       "      <td>0</td>\n",
       "      <td>0</td>\n",
       "      <td>0</td>\n",
       "      <td>1</td>\n",
       "      <td>2</td>\n",
       "      <td>...</td>\n",
       "      <td>255.366937</td>\n",
       "      <td>57.523097</td>\n",
       "      <td>1.840118</td>\n",
       "      <td>0.521873</td>\n",
       "      <td>0.717862</td>\n",
       "      <td>89.812122</td>\n",
       "      <td>0.992347</td>\n",
       "      <td>115.380030</td>\n",
       "      <td>18.207522</td>\n",
       "      <td>14.026312</td>\n",
       "    </tr>\n",
       "    <tr>\n",
       "      <td>4</td>\n",
       "      <td>4</td>\n",
       "      <td>129416237</td>\n",
       "      <td>F</td>\n",
       "      <td>0</td>\n",
       "      <td>0</td>\n",
       "      <td>0</td>\n",
       "      <td>0</td>\n",
       "      <td>0</td>\n",
       "      <td>1</td>\n",
       "      <td>2</td>\n",
       "      <td>...</td>\n",
       "      <td>160.118262</td>\n",
       "      <td>31.185296</td>\n",
       "      <td>1.316497</td>\n",
       "      <td>0.326116</td>\n",
       "      <td>0.748167</td>\n",
       "      <td>89.308165</td>\n",
       "      <td>0.965424</td>\n",
       "      <td>121.808089</td>\n",
       "      <td>18.561414</td>\n",
       "      <td>13.358217</td>\n",
       "    </tr>\n",
       "  </tbody>\n",
       "</table>\n",
       "<p>5 rows × 31 columns</p>\n",
       "</div>"
      ],
      "text/plain": [
       "   Unnamed: 0  desy_sort_key gender_id  Diabetes  COPD  CKD  PVD  CAD  \\\n",
       "0           0      118683983         F         0     0    0    0    0   \n",
       "1           1      130289775         F         1     0    0    0    0   \n",
       "2           2      108632239         F         0     0    0    0    0   \n",
       "3           3      117485425         M         0     0    0    0    0   \n",
       "4           4      129416237         F         0     0    0    0    0   \n",
       "\n",
       "   HyperTension  DiseaseType  ...  Total_Cholesterol Triglycerides  \\\n",
       "0             1            2  ...         226.513751     60.829092   \n",
       "1             0            1  ...         212.915038     53.870125   \n",
       "2             1            2  ...         134.289605     57.523097   \n",
       "3             1            2  ...         255.366937     57.523097   \n",
       "4             1            2  ...         160.118262     31.185296   \n",
       "\n",
       "  COPDAssesstmet_Test      nMRC  FEV1/FVC_Ratio       FEV1  serum_creatinine  \\\n",
       "0            2.350348  0.684115        0.717862  90.379252          0.998853   \n",
       "1            6.964980  0.296683        0.877135  88.370560          1.025898   \n",
       "2            5.643176  0.337167        0.994377  88.580960          0.986728   \n",
       "3            1.840118  0.521873        0.717862  89.812122          0.992347   \n",
       "4            1.316497  0.326116        0.748167  89.308165          0.965424   \n",
       "\n",
       "          gfr  blood_urea_nitrogen  Albumin_to_creatinine_ratio  \n",
       "0  152.072711            18.470213                    13.594130  \n",
       "1  168.231390            18.302752                    13.145523  \n",
       "2  166.307136            18.422089                     6.466951  \n",
       "3  115.380030            18.207522                    14.026312  \n",
       "4  121.808089            18.561414                    13.358217  \n",
       "\n",
       "[5 rows x 31 columns]"
      ]
     },
     "execution_count": 2,
     "metadata": {},
     "output_type": "execute_result"
    }
   ],
   "source": [
    "# Importing dataset\n",
    "Clinical_Data= pd.read_csv(\"Clinical_Data.csv\")        \n",
    "Clinical_Data.head()"
   ]
  },
  {
   "cell_type": "code",
   "execution_count": 3,
   "metadata": {},
   "outputs": [
    {
     "name": "stdout",
     "output_type": "stream",
     "text": [
      "<class 'pandas.core.frame.DataFrame'>\n",
      "RangeIndex: 13599 entries, 0 to 13598\n",
      "Data columns (total 31 columns):\n",
      "Unnamed: 0                     13599 non-null int64\n",
      "desy_sort_key                  13599 non-null int64\n",
      "gender_id                      13599 non-null object\n",
      "Diabetes                       13599 non-null int64\n",
      "COPD                           13599 non-null int64\n",
      "CKD                            13599 non-null int64\n",
      "PVD                            13599 non-null int64\n",
      "CAD                            13599 non-null int64\n",
      "HyperTension                   13599 non-null int64\n",
      "DiseaseType                    13599 non-null int64\n",
      "Age                            13599 non-null int64\n",
      "race                           13599 non-null object\n",
      "Treated                        13599 non-null object\n",
      "Hemoglobin_A1C                 13599 non-null float64\n",
      "Random_Glucose                 13599 non-null float64\n",
      "Fasting_Glucose                13599 non-null float64\n",
      "BMI                            13599 non-null float64\n",
      "Systolic_BP                    13599 non-null float64\n",
      "Diastolic_BP                   13599 non-null float64\n",
      "HDL_C                          13599 non-null float64\n",
      "LDL_C                          13599 non-null float64\n",
      "Total_Cholesterol              13599 non-null float64\n",
      "Triglycerides                  13599 non-null float64\n",
      "COPDAssesstmet_Test            13599 non-null float64\n",
      "nMRC                           13599 non-null float64\n",
      "FEV1/FVC_Ratio                 13599 non-null float64\n",
      "FEV1                           13599 non-null float64\n",
      "serum_creatinine               13599 non-null float64\n",
      "gfr                            13599 non-null float64\n",
      "blood_urea_nitrogen            13599 non-null float64\n",
      "Albumin_to_creatinine_ratio    13599 non-null float64\n",
      "dtypes: float64(18), int64(10), object(3)\n",
      "memory usage: 3.2+ MB\n"
     ]
    }
   ],
   "source": [
    "Clinical_Data.info() "
   ]
  },
  {
   "cell_type": "code",
   "execution_count": 4,
   "metadata": {},
   "outputs": [
    {
     "data": {
      "text/plain": [
       "0"
      ]
     },
     "execution_count": 4,
     "metadata": {},
     "output_type": "execute_result"
    }
   ],
   "source": [
    "Clinical_Data.duplicated().sum() "
   ]
  },
  {
   "cell_type": "code",
   "execution_count": 5,
   "metadata": {},
   "outputs": [
    {
     "data": {
      "text/plain": [
       "13599"
      ]
     },
     "execution_count": 5,
     "metadata": {},
     "output_type": "execute_result"
    }
   ],
   "source": [
    "Clinical_Data['desy_sort_key'].nunique()"
   ]
  },
  {
   "cell_type": "code",
   "execution_count": 6,
   "metadata": {},
   "outputs": [
    {
     "data": {
      "text/html": [
       "<div>\n",
       "<style scoped>\n",
       "    .dataframe tbody tr th:only-of-type {\n",
       "        vertical-align: middle;\n",
       "    }\n",
       "\n",
       "    .dataframe tbody tr th {\n",
       "        vertical-align: top;\n",
       "    }\n",
       "\n",
       "    .dataframe thead th {\n",
       "        text-align: right;\n",
       "    }\n",
       "</style>\n",
       "<table border=\"1\" class=\"dataframe\">\n",
       "  <thead>\n",
       "    <tr style=\"text-align: right;\">\n",
       "      <th></th>\n",
       "      <th>Unnamed: 0</th>\n",
       "      <th>desy_sort_key</th>\n",
       "      <th>Diabetes</th>\n",
       "      <th>COPD</th>\n",
       "      <th>CKD</th>\n",
       "      <th>PVD</th>\n",
       "      <th>CAD</th>\n",
       "      <th>HyperTension</th>\n",
       "      <th>DiseaseType</th>\n",
       "      <th>Age</th>\n",
       "      <th>...</th>\n",
       "      <th>Total_Cholesterol</th>\n",
       "      <th>Triglycerides</th>\n",
       "      <th>COPDAssesstmet_Test</th>\n",
       "      <th>nMRC</th>\n",
       "      <th>FEV1/FVC_Ratio</th>\n",
       "      <th>FEV1</th>\n",
       "      <th>serum_creatinine</th>\n",
       "      <th>gfr</th>\n",
       "      <th>blood_urea_nitrogen</th>\n",
       "      <th>Albumin_to_creatinine_ratio</th>\n",
       "    </tr>\n",
       "  </thead>\n",
       "  <tbody>\n",
       "    <tr>\n",
       "      <td>count</td>\n",
       "      <td>13599.00000</td>\n",
       "      <td>1.359900e+04</td>\n",
       "      <td>13599.000000</td>\n",
       "      <td>13599.000000</td>\n",
       "      <td>13599.000000</td>\n",
       "      <td>13599.000000</td>\n",
       "      <td>13599.000000</td>\n",
       "      <td>13599.000000</td>\n",
       "      <td>13599.000000</td>\n",
       "      <td>13599.000000</td>\n",
       "      <td>...</td>\n",
       "      <td>13599.000000</td>\n",
       "      <td>13599.000000</td>\n",
       "      <td>13599.000000</td>\n",
       "      <td>13599.000000</td>\n",
       "      <td>13599.000000</td>\n",
       "      <td>13599.000000</td>\n",
       "      <td>13599.000000</td>\n",
       "      <td>13599.000000</td>\n",
       "      <td>13599.000000</td>\n",
       "      <td>13599.000000</td>\n",
       "    </tr>\n",
       "    <tr>\n",
       "      <td>mean</td>\n",
       "      <td>6799.00000</td>\n",
       "      <td>1.212775e+08</td>\n",
       "      <td>0.033164</td>\n",
       "      <td>0.081403</td>\n",
       "      <td>0.060372</td>\n",
       "      <td>0.005736</td>\n",
       "      <td>0.034708</td>\n",
       "      <td>0.523862</td>\n",
       "      <td>3.831458</td>\n",
       "      <td>56.766453</td>\n",
       "      <td>...</td>\n",
       "      <td>191.331951</td>\n",
       "      <td>64.102900</td>\n",
       "      <td>5.482397</td>\n",
       "      <td>0.642758</td>\n",
       "      <td>0.860364</td>\n",
       "      <td>88.315721</td>\n",
       "      <td>1.125293</td>\n",
       "      <td>129.769026</td>\n",
       "      <td>19.138879</td>\n",
       "      <td>22.344230</td>\n",
       "    </tr>\n",
       "    <tr>\n",
       "      <td>std</td>\n",
       "      <td>3925.83749</td>\n",
       "      <td>8.700041e+06</td>\n",
       "      <td>0.179072</td>\n",
       "      <td>0.273463</td>\n",
       "      <td>0.238184</td>\n",
       "      <td>0.075520</td>\n",
       "      <td>0.183047</td>\n",
       "      <td>0.499449</td>\n",
       "      <td>2.245286</td>\n",
       "      <td>16.353595</td>\n",
       "      <td>...</td>\n",
       "      <td>43.788761</td>\n",
       "      <td>27.646785</td>\n",
       "      <td>5.224630</td>\n",
       "      <td>0.563984</td>\n",
       "      <td>0.180649</td>\n",
       "      <td>6.198480</td>\n",
       "      <td>0.659812</td>\n",
       "      <td>29.935943</td>\n",
       "      <td>3.971317</td>\n",
       "      <td>36.446322</td>\n",
       "    </tr>\n",
       "    <tr>\n",
       "      <td>min</td>\n",
       "      <td>0.00000</td>\n",
       "      <td>1.078548e+08</td>\n",
       "      <td>0.000000</td>\n",
       "      <td>0.000000</td>\n",
       "      <td>0.000000</td>\n",
       "      <td>0.000000</td>\n",
       "      <td>0.000000</td>\n",
       "      <td>0.000000</td>\n",
       "      <td>1.000000</td>\n",
       "      <td>25.000000</td>\n",
       "      <td>...</td>\n",
       "      <td>100.083243</td>\n",
       "      <td>20.016576</td>\n",
       "      <td>0.000575</td>\n",
       "      <td>0.000062</td>\n",
       "      <td>0.000011</td>\n",
       "      <td>50.451565</td>\n",
       "      <td>0.910218</td>\n",
       "      <td>18.905459</td>\n",
       "      <td>4.355299</td>\n",
       "      <td>0.010374</td>\n",
       "    </tr>\n",
       "    <tr>\n",
       "      <td>25%</td>\n",
       "      <td>3399.50000</td>\n",
       "      <td>1.134126e+08</td>\n",
       "      <td>0.000000</td>\n",
       "      <td>0.000000</td>\n",
       "      <td>0.000000</td>\n",
       "      <td>0.000000</td>\n",
       "      <td>0.000000</td>\n",
       "      <td>0.000000</td>\n",
       "      <td>2.000000</td>\n",
       "      <td>45.000000</td>\n",
       "      <td>...</td>\n",
       "      <td>157.135280</td>\n",
       "      <td>57.523097</td>\n",
       "      <td>2.225297</td>\n",
       "      <td>0.362378</td>\n",
       "      <td>0.748167</td>\n",
       "      <td>89.156330</td>\n",
       "      <td>0.980277</td>\n",
       "      <td>112.563991</td>\n",
       "      <td>18.346122</td>\n",
       "      <td>11.519935</td>\n",
       "    </tr>\n",
       "    <tr>\n",
       "      <td>50%</td>\n",
       "      <td>6799.00000</td>\n",
       "      <td>1.213063e+08</td>\n",
       "      <td>0.000000</td>\n",
       "      <td>0.000000</td>\n",
       "      <td>0.000000</td>\n",
       "      <td>0.000000</td>\n",
       "      <td>0.000000</td>\n",
       "      <td>1.000000</td>\n",
       "      <td>2.000000</td>\n",
       "      <td>57.000000</td>\n",
       "      <td>...</td>\n",
       "      <td>191.391267</td>\n",
       "      <td>63.827040</td>\n",
       "      <td>4.910732</td>\n",
       "      <td>0.521668</td>\n",
       "      <td>0.846148</td>\n",
       "      <td>89.893511</td>\n",
       "      <td>0.996609</td>\n",
       "      <td>132.715226</td>\n",
       "      <td>18.512046</td>\n",
       "      <td>15.401780</td>\n",
       "    </tr>\n",
       "    <tr>\n",
       "      <td>75%</td>\n",
       "      <td>10198.50000</td>\n",
       "      <td>1.287162e+08</td>\n",
       "      <td>0.000000</td>\n",
       "      <td>0.000000</td>\n",
       "      <td>0.000000</td>\n",
       "      <td>0.000000</td>\n",
       "      <td>0.000000</td>\n",
       "      <td>1.000000</td>\n",
       "      <td>7.000000</td>\n",
       "      <td>70.000000</td>\n",
       "      <td>...</td>\n",
       "      <td>223.696462</td>\n",
       "      <td>69.436327</td>\n",
       "      <td>7.255807</td>\n",
       "      <td>0.697954</td>\n",
       "      <td>0.959523</td>\n",
       "      <td>90.554378</td>\n",
       "      <td>1.014713</td>\n",
       "      <td>153.061604</td>\n",
       "      <td>18.682373</td>\n",
       "      <td>19.603653</td>\n",
       "    </tr>\n",
       "    <tr>\n",
       "      <td>max</td>\n",
       "      <td>13598.00000</td>\n",
       "      <td>1.367601e+08</td>\n",
       "      <td>1.000000</td>\n",
       "      <td>1.000000</td>\n",
       "      <td>1.000000</td>\n",
       "      <td>1.000000</td>\n",
       "      <td>1.000000</td>\n",
       "      <td>1.000000</td>\n",
       "      <td>7.000000</td>\n",
       "      <td>85.000000</td>\n",
       "      <td>...</td>\n",
       "      <td>290.194776</td>\n",
       "      <td>296.227238</td>\n",
       "      <td>39.563789</td>\n",
       "      <td>3.985624</td>\n",
       "      <td>1.447107</td>\n",
       "      <td>93.261864</td>\n",
       "      <td>6.492862</td>\n",
       "      <td>179.980299</td>\n",
       "      <td>35.356934</td>\n",
       "      <td>309.876770</td>\n",
       "    </tr>\n",
       "  </tbody>\n",
       "</table>\n",
       "<p>8 rows × 28 columns</p>\n",
       "</div>"
      ],
      "text/plain": [
       "        Unnamed: 0  desy_sort_key      Diabetes          COPD           CKD  \\\n",
       "count  13599.00000   1.359900e+04  13599.000000  13599.000000  13599.000000   \n",
       "mean    6799.00000   1.212775e+08      0.033164      0.081403      0.060372   \n",
       "std     3925.83749   8.700041e+06      0.179072      0.273463      0.238184   \n",
       "min        0.00000   1.078548e+08      0.000000      0.000000      0.000000   \n",
       "25%     3399.50000   1.134126e+08      0.000000      0.000000      0.000000   \n",
       "50%     6799.00000   1.213063e+08      0.000000      0.000000      0.000000   \n",
       "75%    10198.50000   1.287162e+08      0.000000      0.000000      0.000000   \n",
       "max    13598.00000   1.367601e+08      1.000000      1.000000      1.000000   \n",
       "\n",
       "                PVD           CAD  HyperTension   DiseaseType           Age  \\\n",
       "count  13599.000000  13599.000000  13599.000000  13599.000000  13599.000000   \n",
       "mean       0.005736      0.034708      0.523862      3.831458     56.766453   \n",
       "std        0.075520      0.183047      0.499449      2.245286     16.353595   \n",
       "min        0.000000      0.000000      0.000000      1.000000     25.000000   \n",
       "25%        0.000000      0.000000      0.000000      2.000000     45.000000   \n",
       "50%        0.000000      0.000000      1.000000      2.000000     57.000000   \n",
       "75%        0.000000      0.000000      1.000000      7.000000     70.000000   \n",
       "max        1.000000      1.000000      1.000000      7.000000     85.000000   \n",
       "\n",
       "       ...  Total_Cholesterol  Triglycerides  COPDAssesstmet_Test  \\\n",
       "count  ...       13599.000000   13599.000000         13599.000000   \n",
       "mean   ...         191.331951      64.102900             5.482397   \n",
       "std    ...          43.788761      27.646785             5.224630   \n",
       "min    ...         100.083243      20.016576             0.000575   \n",
       "25%    ...         157.135280      57.523097             2.225297   \n",
       "50%    ...         191.391267      63.827040             4.910732   \n",
       "75%    ...         223.696462      69.436327             7.255807   \n",
       "max    ...         290.194776     296.227238            39.563789   \n",
       "\n",
       "               nMRC  FEV1/FVC_Ratio          FEV1  serum_creatinine  \\\n",
       "count  13599.000000    13599.000000  13599.000000      13599.000000   \n",
       "mean       0.642758        0.860364     88.315721          1.125293   \n",
       "std        0.563984        0.180649      6.198480          0.659812   \n",
       "min        0.000062        0.000011     50.451565          0.910218   \n",
       "25%        0.362378        0.748167     89.156330          0.980277   \n",
       "50%        0.521668        0.846148     89.893511          0.996609   \n",
       "75%        0.697954        0.959523     90.554378          1.014713   \n",
       "max        3.985624        1.447107     93.261864          6.492862   \n",
       "\n",
       "                gfr  blood_urea_nitrogen  Albumin_to_creatinine_ratio  \n",
       "count  13599.000000         13599.000000                 13599.000000  \n",
       "mean     129.769026            19.138879                    22.344230  \n",
       "std       29.935943             3.971317                    36.446322  \n",
       "min       18.905459             4.355299                     0.010374  \n",
       "25%      112.563991            18.346122                    11.519935  \n",
       "50%      132.715226            18.512046                    15.401780  \n",
       "75%      153.061604            18.682373                    19.603653  \n",
       "max      179.980299            35.356934                   309.876770  \n",
       "\n",
       "[8 rows x 28 columns]"
      ]
     },
     "execution_count": 6,
     "metadata": {},
     "output_type": "execute_result"
    }
   ],
   "source": [
    "Clinical_Data.describe()"
   ]
  },
  {
   "cell_type": "code",
   "execution_count": 7,
   "metadata": {},
   "outputs": [
    {
     "data": {
      "text/plain": [
       "Index(['Unnamed: 0', 'desy_sort_key', 'gender_id', 'Diabetes', 'COPD', 'CKD',\n",
       "       'PVD', 'CAD', 'HyperTension', 'DiseaseType', 'Age', 'race', 'Treated',\n",
       "       'Hemoglobin_A1C', 'Random_Glucose', 'Fasting_Glucose', 'BMI',\n",
       "       'Systolic_BP', 'Diastolic_BP', 'HDL_C', 'LDL_C', 'Total_Cholesterol',\n",
       "       'Triglycerides', 'COPDAssesstmet_Test', 'nMRC', 'FEV1/FVC_Ratio',\n",
       "       'FEV1', 'serum_creatinine', 'gfr', 'blood_urea_nitrogen',\n",
       "       'Albumin_to_creatinine_ratio'],\n",
       "      dtype='object')"
      ]
     },
     "execution_count": 7,
     "metadata": {},
     "output_type": "execute_result"
    }
   ],
   "source": [
    "Clinical_Data.columns"
   ]
  },
  {
   "cell_type": "code",
   "execution_count": 8,
   "metadata": {},
   "outputs": [],
   "source": [
    "numerical_vars = [ 'Hemoglobin_A1C', 'Random_Glucose', 'Fasting_Glucose', 'BMI',\n",
    "       'Systolic_BP', 'Diastolic_BP', 'HDL_C', 'LDL_C', 'Total_Cholesterol',\n",
    "       'Triglycerides', 'COPDAssesstmet_Test', 'nMRC', 'FEV1/FVC_Ratio',\n",
    "       'FEV1', 'serum_creatinine', 'gfr', 'blood_urea_nitrogen',\n",
    "       'Albumin_to_creatinine_ratio']"
   ]
  },
  {
   "cell_type": "code",
   "execution_count": 9,
   "metadata": {},
   "outputs": [],
   "source": [
    "target = \"Treated\""
   ]
  },
  {
   "cell_type": "code",
   "execution_count": 19,
   "metadata": {},
   "outputs": [],
   "source": [
    "def creating_boxplots(size, target, features, data):\n",
    "    plt.figure(figsize=size)\n",
    "    for i in range(len(numerical_vars)):\n",
    "        plt.subplot(8, 2, i+1)\n",
    "        sns.boxplot(x=target, y=features[i], data=data )"
   ]
  },
  {
   "cell_type": "code",
   "execution_count": 20,
   "metadata": {},
   "outputs": [
    {
     "ename": "ValueError",
     "evalue": "num must be 1 <= num <= 16, not 17",
     "output_type": "error",
     "traceback": [
      "\u001b[1;31m---------------------------------------------------------------------------\u001b[0m",
      "\u001b[1;31mValueError\u001b[0m                                Traceback (most recent call last)",
      "\u001b[1;32m<ipython-input-20-ed413c75195b>\u001b[0m in \u001b[0;36m<module>\u001b[1;34m\u001b[0m\n\u001b[0;32m      1\u001b[0m \u001b[1;31m# Creating box plots\u001b[0m\u001b[1;33m\u001b[0m\u001b[1;33m\u001b[0m\u001b[1;33m\u001b[0m\u001b[0m\n\u001b[1;32m----> 2\u001b[1;33m \u001b[0mcreating_boxplots\u001b[0m\u001b[1;33m(\u001b[0m\u001b[1;33m(\u001b[0m\u001b[1;36m16\u001b[0m\u001b[1;33m,\u001b[0m\u001b[1;36m18\u001b[0m\u001b[1;33m)\u001b[0m\u001b[1;33m,\u001b[0m \u001b[0mtarget\u001b[0m\u001b[1;33m,\u001b[0m \u001b[0mnumerical_vars\u001b[0m\u001b[1;33m,\u001b[0m \u001b[0mClinical_Data\u001b[0m\u001b[1;33m)\u001b[0m\u001b[1;33m\u001b[0m\u001b[1;33m\u001b[0m\u001b[0m\n\u001b[0m\u001b[0;32m      3\u001b[0m \u001b[0mplt\u001b[0m\u001b[1;33m.\u001b[0m\u001b[0mtight_layout\u001b[0m\u001b[1;33m(\u001b[0m\u001b[1;33m)\u001b[0m\u001b[1;33m\u001b[0m\u001b[1;33m\u001b[0m\u001b[0m\n",
      "\u001b[1;32m<ipython-input-19-4242c7357b79>\u001b[0m in \u001b[0;36mcreating_boxplots\u001b[1;34m(size, target, features, data)\u001b[0m\n\u001b[0;32m      2\u001b[0m     \u001b[0mplt\u001b[0m\u001b[1;33m.\u001b[0m\u001b[0mfigure\u001b[0m\u001b[1;33m(\u001b[0m\u001b[0mfigsize\u001b[0m\u001b[1;33m=\u001b[0m\u001b[0msize\u001b[0m\u001b[1;33m)\u001b[0m\u001b[1;33m\u001b[0m\u001b[1;33m\u001b[0m\u001b[0m\n\u001b[0;32m      3\u001b[0m     \u001b[1;32mfor\u001b[0m \u001b[0mi\u001b[0m \u001b[1;32min\u001b[0m \u001b[0mrange\u001b[0m\u001b[1;33m(\u001b[0m\u001b[0mlen\u001b[0m\u001b[1;33m(\u001b[0m\u001b[0mnumerical_vars\u001b[0m\u001b[1;33m)\u001b[0m\u001b[1;33m)\u001b[0m\u001b[1;33m:\u001b[0m\u001b[1;33m\u001b[0m\u001b[1;33m\u001b[0m\u001b[0m\n\u001b[1;32m----> 4\u001b[1;33m         \u001b[0mplt\u001b[0m\u001b[1;33m.\u001b[0m\u001b[0msubplot\u001b[0m\u001b[1;33m(\u001b[0m\u001b[1;36m8\u001b[0m\u001b[1;33m,\u001b[0m \u001b[1;36m2\u001b[0m\u001b[1;33m,\u001b[0m \u001b[0mi\u001b[0m\u001b[1;33m+\u001b[0m\u001b[1;36m1\u001b[0m\u001b[1;33m)\u001b[0m\u001b[1;33m\u001b[0m\u001b[1;33m\u001b[0m\u001b[0m\n\u001b[0m\u001b[0;32m      5\u001b[0m         \u001b[0msns\u001b[0m\u001b[1;33m.\u001b[0m\u001b[0mboxplot\u001b[0m\u001b[1;33m(\u001b[0m\u001b[0mx\u001b[0m\u001b[1;33m=\u001b[0m\u001b[0mtarget\u001b[0m\u001b[1;33m,\u001b[0m \u001b[0my\u001b[0m\u001b[1;33m=\u001b[0m\u001b[0mfeatures\u001b[0m\u001b[1;33m[\u001b[0m\u001b[0mi\u001b[0m\u001b[1;33m]\u001b[0m\u001b[1;33m,\u001b[0m \u001b[0mdata\u001b[0m\u001b[1;33m=\u001b[0m\u001b[0mdata\u001b[0m \u001b[1;33m)\u001b[0m\u001b[1;33m\u001b[0m\u001b[1;33m\u001b[0m\u001b[0m\n",
      "\u001b[1;32m~\\AppData\\Local\\Continuum\\anaconda3\\lib\\site-packages\\matplotlib\\pyplot.py\u001b[0m in \u001b[0;36msubplot\u001b[1;34m(*args, **kwargs)\u001b[0m\n\u001b[0;32m   1074\u001b[0m \u001b[1;33m\u001b[0m\u001b[0m\n\u001b[0;32m   1075\u001b[0m     \u001b[0mfig\u001b[0m \u001b[1;33m=\u001b[0m \u001b[0mgcf\u001b[0m\u001b[1;33m(\u001b[0m\u001b[1;33m)\u001b[0m\u001b[1;33m\u001b[0m\u001b[1;33m\u001b[0m\u001b[0m\n\u001b[1;32m-> 1076\u001b[1;33m     \u001b[0ma\u001b[0m \u001b[1;33m=\u001b[0m \u001b[0mfig\u001b[0m\u001b[1;33m.\u001b[0m\u001b[0madd_subplot\u001b[0m\u001b[1;33m(\u001b[0m\u001b[1;33m*\u001b[0m\u001b[0margs\u001b[0m\u001b[1;33m,\u001b[0m \u001b[1;33m**\u001b[0m\u001b[0mkwargs\u001b[0m\u001b[1;33m)\u001b[0m\u001b[1;33m\u001b[0m\u001b[1;33m\u001b[0m\u001b[0m\n\u001b[0m\u001b[0;32m   1077\u001b[0m     \u001b[0mbbox\u001b[0m \u001b[1;33m=\u001b[0m \u001b[0ma\u001b[0m\u001b[1;33m.\u001b[0m\u001b[0mbbox\u001b[0m\u001b[1;33m\u001b[0m\u001b[1;33m\u001b[0m\u001b[0m\n\u001b[0;32m   1078\u001b[0m     \u001b[0mbyebye\u001b[0m \u001b[1;33m=\u001b[0m \u001b[1;33m[\u001b[0m\u001b[1;33m]\u001b[0m\u001b[1;33m\u001b[0m\u001b[1;33m\u001b[0m\u001b[0m\n",
      "\u001b[1;32m~\\AppData\\Local\\Continuum\\anaconda3\\lib\\site-packages\\matplotlib\\figure.py\u001b[0m in \u001b[0;36madd_subplot\u001b[1;34m(self, *args, **kwargs)\u001b[0m\n\u001b[0;32m   1412\u001b[0m                     \u001b[0mself\u001b[0m\u001b[1;33m.\u001b[0m\u001b[0m_axstack\u001b[0m\u001b[1;33m.\u001b[0m\u001b[0mremove\u001b[0m\u001b[1;33m(\u001b[0m\u001b[0max\u001b[0m\u001b[1;33m)\u001b[0m\u001b[1;33m\u001b[0m\u001b[1;33m\u001b[0m\u001b[0m\n\u001b[0;32m   1413\u001b[0m \u001b[1;33m\u001b[0m\u001b[0m\n\u001b[1;32m-> 1414\u001b[1;33m             \u001b[0ma\u001b[0m \u001b[1;33m=\u001b[0m \u001b[0msubplot_class_factory\u001b[0m\u001b[1;33m(\u001b[0m\u001b[0mprojection_class\u001b[0m\u001b[1;33m)\u001b[0m\u001b[1;33m(\u001b[0m\u001b[0mself\u001b[0m\u001b[1;33m,\u001b[0m \u001b[1;33m*\u001b[0m\u001b[0margs\u001b[0m\u001b[1;33m,\u001b[0m \u001b[1;33m**\u001b[0m\u001b[0mkwargs\u001b[0m\u001b[1;33m)\u001b[0m\u001b[1;33m\u001b[0m\u001b[1;33m\u001b[0m\u001b[0m\n\u001b[0m\u001b[0;32m   1415\u001b[0m \u001b[1;33m\u001b[0m\u001b[0m\n\u001b[0;32m   1416\u001b[0m         \u001b[1;32mreturn\u001b[0m \u001b[0mself\u001b[0m\u001b[1;33m.\u001b[0m\u001b[0m_add_axes_internal\u001b[0m\u001b[1;33m(\u001b[0m\u001b[0mkey\u001b[0m\u001b[1;33m,\u001b[0m \u001b[0ma\u001b[0m\u001b[1;33m)\u001b[0m\u001b[1;33m\u001b[0m\u001b[1;33m\u001b[0m\u001b[0m\n",
      "\u001b[1;32m~\\AppData\\Local\\Continuum\\anaconda3\\lib\\site-packages\\matplotlib\\axes\\_subplots.py\u001b[0m in \u001b[0;36m__init__\u001b[1;34m(self, fig, *args, **kwargs)\u001b[0m\n\u001b[0;32m     57\u001b[0m                 \u001b[1;32mif\u001b[0m \u001b[0mnum\u001b[0m \u001b[1;33m<\u001b[0m \u001b[1;36m1\u001b[0m \u001b[1;32mor\u001b[0m \u001b[0mnum\u001b[0m \u001b[1;33m>\u001b[0m \u001b[0mrows\u001b[0m\u001b[1;33m*\u001b[0m\u001b[0mcols\u001b[0m\u001b[1;33m:\u001b[0m\u001b[1;33m\u001b[0m\u001b[1;33m\u001b[0m\u001b[0m\n\u001b[0;32m     58\u001b[0m                     raise ValueError(\n\u001b[1;32m---> 59\u001b[1;33m                         f\"num must be 1 <= num <= {rows*cols}, not {num}\")\n\u001b[0m\u001b[0;32m     60\u001b[0m                 self._subplotspec = GridSpec(\n\u001b[0;32m     61\u001b[0m                         rows, cols, figure=self.figure)[int(num) - 1]\n",
      "\u001b[1;31mValueError\u001b[0m: num must be 1 <= num <= 16, not 17"
     ]
    },
    {
     "data": {
      "image/png": "[encoded data removed]",
      "text/plain": [
       "<Figure size 1152x1296 with 16 Axes>"
      ]
     },
     "metadata": {
      "needs_background": "light"
     },
     "output_type": "display_data"
    }
   ],
   "source": [
    "# Creating box plots\n",
    "creating_boxplots((16,18), target, numerical_vars, Clinical_Data)\n",
    "plt.tight_layout()"
   ]
  },
  {
   "cell_type": "code",
   "execution_count": 10,
   "metadata": {},
   "outputs": [],
   "source": [
    "cat_cols= ['DiseaseType']"
   ]
  },
  {
   "cell_type": "code",
   "execution_count": 22,
   "metadata": {},
   "outputs": [],
   "source": [
    "def countplot(features,data):\n",
    "   \n",
    "    for i in range(len(features)):\n",
    "        fig1, ax1 = plt.subplots(figsize=(12, 10), sharex=True)\n",
    "        sns.set(style=\"whitegrid\", palette=\"pastel\", color_codes=True)\n",
    "        sns.countplot(x= data[features[i]],data=data)\n",
    "        fig1.show()\n",
    "        fig1.tight_layout()"
   ]
  },
  {
   "cell_type": "code",
   "execution_count": 23,
   "metadata": {},
   "outputs": [
    {
     "name": "stderr",
     "output_type": "stream",
     "text": [
      "C:\\Users\\venkata.b\\AppData\\Local\\Continuum\\anaconda3\\lib\\site-packages\\ipykernel_launcher.py:7: UserWarning: Matplotlib is currently using module://ipykernel.pylab.backend_inline, which is a non-GUI backend, so cannot show the figure.\n",
      "  import sys\n"
     ]
    },
    {
     "name": "stdout",
     "output_type": "stream",
     "text": [
      "None\n"
     ]
    },
    {
     "data": {
      "image/png": "[encoded data removed]",
      "text/plain": [
       "<Figure size 864x720 with 1 Axes>"
      ]
     },
     "metadata": {
      "needs_background": "light"
     },
     "output_type": "display_data"
    }
   ],
   "source": [
    "print(countplot(cat_cols,Clinical_Data))"
   ]
  },
  {
   "cell_type": "code",
   "execution_count": 11,
   "metadata": {},
   "outputs": [],
   "source": [
    "numerical_vars_one = [ 'Hemoglobin_A1C']"
   ]
  },
  {
   "cell_type": "code",
   "execution_count": 12,
   "metadata": {},
   "outputs": [],
   "source": [
    "from sklearn.linear_model import LogisticRegression\n",
    "model = LogisticRegression()"
   ]
  },
  {
   "cell_type": "code",
   "execution_count": 13,
   "metadata": {},
   "outputs": [],
   "source": [
    "from sklearn.model_selection import train_test_split"
   ]
  },
  {
   "cell_type": "code",
   "execution_count": 14,
   "metadata": {},
   "outputs": [],
   "source": [
    "X_train, X_test, y_train, y_test = train_test_split(Clinical_Data[numerical_vars_one],Clinical_Data[cat_cols], test_size=0.3)"
   ]
  },
  {
   "cell_type": "code",
   "execution_count": 15,
   "metadata": {},
   "outputs": [
    {
     "name": "stderr",
     "output_type": "stream",
     "text": [
      "C:\\Users\\venkata.b\\AppData\\Local\\Continuum\\anaconda3\\lib\\site-packages\\sklearn\\linear_model\\logistic.py:432: FutureWarning: Default solver will be changed to 'lbfgs' in 0.22. Specify a solver to silence this warning.\n",
      "  FutureWarning)\n",
      "C:\\Users\\venkata.b\\AppData\\Local\\Continuum\\anaconda3\\lib\\site-packages\\sklearn\\utils\\validation.py:724: DataConversionWarning: A column-vector y was passed when a 1d array was expected. Please change the shape of y to (n_samples, ), for example using ravel().\n",
      "  y = column_or_1d(y, warn=True)\n",
      "C:\\Users\\venkata.b\\AppData\\Local\\Continuum\\anaconda3\\lib\\site-packages\\sklearn\\linear_model\\logistic.py:469: FutureWarning: Default multi_class will be changed to 'auto' in 0.22. Specify the multi_class option to silence this warning.\n",
      "  \"this warning.\", FutureWarning)\n"
     ]
    },
    {
     "data": {
      "text/plain": [
       "LogisticRegression(C=1.0, class_weight=None, dual=False, fit_intercept=True,\n",
       "                   intercept_scaling=1, l1_ratio=None, max_iter=100,\n",
       "                   multi_class='warn', n_jobs=None, penalty='l2',\n",
       "                   random_state=None, solver='warn', tol=0.0001, verbose=0,\n",
       "                   warm_start=False)"
      ]
     },
     "execution_count": 15,
     "metadata": {},
     "output_type": "execute_result"
    }
   ],
   "source": [
    "model.fit(X_train, y_train)"
   ]
  },
  {
   "cell_type": "code",
   "execution_count": 16,
   "metadata": {},
   "outputs": [
    {
     "data": {
      "text/plain": [
       "0.5313725490196078"
      ]
     },
     "execution_count": 16,
     "metadata": {},
     "output_type": "execute_result"
    }
   ],
   "source": [
    "model.score(X_test, y_test)"
   ]
  },
  {
   "cell_type": "code",
   "execution_count": 17,
   "metadata": {},
   "outputs": [
    {
     "data": {
      "text/plain": [
       "numpy.ndarray"
      ]
     },
     "execution_count": 17,
     "metadata": {},
     "output_type": "execute_result"
    }
   ],
   "source": [
    "type(model.predict(X_test))"
   ]
  },
  {
   "cell_type": "code",
   "execution_count": 18,
   "metadata": {},
   "outputs": [],
   "source": [
    "import pickle"
   ]
  },
  {
   "cell_type": "code",
   "execution_count": 19,
   "metadata": {},
   "outputs": [],
   "source": [
    "with open('clinical_data_model.pickle','wb') as f:\n",
    "    pickle.dump(model,f)"
   ]
  },
  {
   "cell_type": "code",
   "execution_count": 32,
   "metadata": {},
   "outputs": [],
   "source": [
    "import json"
   ]
  },
  {
   "cell_type": "code",
   "execution_count": 33,
   "metadata": {},
   "outputs": [],
   "source": [
    "columns={'data_columns':[col.lower() for col in numerical_vars]}\n",
    "\n",
    "with open(\"columns.json\",\"w\") as f:\n",
    "    f.write(json.dumps(columns))"
   ]
  },
  {
   "cell_type": "code",
   "execution_count": 1,
   "metadata": {},
   "outputs": [
    {
     "ename": "NameError",
     "evalue": "name 'model' is not defined",
     "output_type": "error",
     "traceback": [
      "\u001b[1;31m---------------------------------------------------------------------------\u001b[0m",
      "\u001b[1;31mNameError\u001b[0m                                 Traceback (most recent call last)",
      "\u001b[1;32m<ipython-input-1-fe3b37f467eb>\u001b[0m in \u001b[0;36m<module>\u001b[1;34m\u001b[0m\n\u001b[1;32m----> 1\u001b[1;33m \u001b[0mmodel\u001b[0m\u001b[1;33m.\u001b[0m\u001b[0mpredict\u001b[0m\u001b[1;33m\u001b[0m\u001b[1;33m\u001b[0m\u001b[0m\n\u001b[0m",
      "\u001b[1;31mNameError\u001b[0m: name 'model' is not defined"
     ]
    }
   ],
   "source": [
    "model.predict"
   ]
  },
  {
   "cell_type": "code",
   "execution_count": null,
   "metadata": {},
   "outputs": [],
   "source": []
  }
 ],
 "metadata": {
  "kernelspec": {
   "display_name": "base",
   "language": "python",
   "name": "python3"
  },
  "language_info": {
   "codemirror_mode": {
    "name": "ipython",
    "version": 3
   },
   "file_extension": ".py",
   "mimetype": "text/x-python",
   "name": "python",
   "nbconvert_exporter": "python",
   "pygments_lexer": "ipython3",
   "version": "3.7.4 (default, Aug  9 2019, 18:34:13) [MSC v.1915 64 bit (AMD64)]"
  },
  "vscode": {
   "interpreter": {
    "hash": "915b3b79e55970466ab5ef8a37cdcebd1f65f4d021713aad14472d5f41b4f3ea"
   }
  }
 },
 "nbformat": 4,
 "nbformat_minor": 2
}
